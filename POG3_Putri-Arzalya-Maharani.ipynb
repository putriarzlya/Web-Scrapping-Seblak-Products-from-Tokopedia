{
 "cells": [
  {
   "cell_type": "markdown",
   "metadata": {},
   "source": [
    "    '''\n",
    "    =================================================\n",
    "    Graded Challenge 2\n",
    "\n",
    "    Nama  : Putri Arzalya Maharani\n",
    "    Batch : HCK-013\n",
    "\n",
    "    Program ini dibuat untuk melakukan analisis data pada penjualan seblak yang menentukan keputusan apakah dapat menambahkan pendapatan dari yang sebelumnya dengan cara melakukan web scrapping hingga perhitungan statistik.\n",
    "    =================================================\n",
    "    '''"
   ]
  },
  {
   "cell_type": "markdown",
   "metadata": {},
   "source": [
    "# WEB SCRAPPING "
   ]
  },
  {
   "cell_type": "markdown",
   "metadata": {},
   "source": [
    "Import library yang dibutuhkan:\n",
    "- Import \"time\" untuk penggunaan time.sleep(3) yang berfungsi untuk menunda waktu eksekusi ke halaman selanjutnya.\n",
    "- Import \"pandas\" dipakai untuk pengerjaan yang berkaitan dengan DataFrame\n",
    "- Import \"BeautifulSoup\" untuk mengambil data HTML\n",
    "- Import \"Selenium\" untuk menjalankan aktivitas pada web browser secara otomatis"
   ]
  },
  {
   "cell_type": "code",
   "execution_count": 147,
   "metadata": {},
   "outputs": [],
   "source": [
    "import time\n",
    "import pandas as pd\n",
    "import numpy as np\n",
    "from bs4 import BeautifulSoup\n",
    "from selenium import webdriver\n",
    "from scipy.stats import kendalltau # Uji Korelasi Kendall Tau\n",
    "from scipy.stats import spearmanr # Uji Korelasi Spearman\n",
    "from scipy.stats import ttest_ind # T-Test"
   ]
  },
  {
   "cell_type": "markdown",
   "metadata": {},
   "source": [
    "Setelah import library, langkah selanjutnya yaitu set up browser yang digunakan yaitu Chrome. Chrome sebagai browser yang nantinya akan dijalankan otomatis oleh sistem (saat web scrapping)."
   ]
  },
  {
   "cell_type": "markdown",
   "metadata": {},
   "source": [
    "- SetUp browser yang digunakan yaitu Chrome"
   ]
  },
  {
   "cell_type": "code",
   "execution_count": 12,
   "metadata": {},
   "outputs": [],
   "source": [
    "driver = webdriver.Chrome()"
   ]
  },
  {
   "cell_type": "markdown",
   "metadata": {},
   "source": [
    "Mengakses website Tokopedia melalui request.get untuk memastikan apakah web dapat dibuka atau tidak."
   ]
  },
  {
   "cell_type": "code",
   "execution_count": 13,
   "metadata": {},
   "outputs": [],
   "source": [
    "#import requests\n",
    "\n",
    "#page = requests.get (\"https://www.tokopedia.com/search?navsource=&page=1&q=seblak&srp_component_id=02.01.00.00&srp_page_id=&srp_page_title=&st=\")\n",
    "#page"
   ]
  },
  {
   "cell_type": "markdown",
   "metadata": {},
   "source": [
    "Mengakses website Tokopedia dengan BeautifulSoup dan input \"html.parser\" untuk mengekstrak informasi seperti judul, paragraf, headings, dan lainnya."
   ]
  },
  {
   "cell_type": "code",
   "execution_count": 14,
   "metadata": {},
   "outputs": [
    {
     "name": "stdout",
     "output_type": "stream",
     "text": [
      "<html data-rh=\"lang,translate\" lang=\"id\" translate=\"no\">\n",
      " <head>\n",
      "  <title>\n",
      "   Jual seblak | Tokopedia\n",
      "  </title>\n",
      "  <meta charset=\"utf-8\"/>\n",
      "  <meta content=\"initial-scale=1, minimum-scale=1, maximum-scale=5, user-scalable=yes, width=device-width\" name=\"viewport\"/>\n",
      "  <link crossorigin=\"\" href=\"https://assets.tokopedia.net\" rel=\"preconnect\"/>\n",
      "  <link href=\"https://assets.tokopedia.net\" nonce=\"\" rel=\"dns-prefetch\"/>\n",
      "  <link crossorigin=\"\" href=\"https://gql.tokopedia.com\" rel=\"preconnect\"/>\n",
      "  <link href=\"https://gql.tokopedia.com\" nonce=\"\" rel=\"dns-prefetch\"/>\n",
      "  <link crossorigin=\"\" href=\"https://googleads.g.doubleclick.net\" rel=\"preconnect\"/>\n",
      "  <link href=\"https://googleads.g.doubleclick.net\" no\n"
     ]
    }
   ],
   "source": [
    "url = \"https://www.tokopedia.com/search?navsource=&page=1&q=seblak&srp_component_id=02.01.00.00&srp_page_id=&srp_page_title=&st=\"\n",
    "driver.get(url)\n",
    "html = driver.page_source\n",
    "\n",
    "soup = BeautifulSoup(html, \"html.parser\")\n",
    "print(soup.prettify()[:700])"
   ]
  },
  {
   "cell_type": "markdown",
   "metadata": {},
   "source": [
    "## Box\n",
    "Element dari box (yang mencakup nama produk, harga produk, nama penjual, asal kota toko penjual, unit yang terjual, dan rating toko) : \n",
    "``` \n",
    "<div class=\"css-1asz3by\"\n",
    "```"
   ]
  },
  {
   "cell_type": "markdown",
   "metadata": {},
   "source": [
    "### Men-scrapping 10 halaman pada website Tokopedia yang berisi penjualan seblak"
   ]
  },
  {
   "cell_type": "code",
   "execution_count": 15,
   "metadata": {},
   "outputs": [],
   "source": [
    "#Membuat list kosong sebagai penampung\n",
    "nama = []\n",
    "harga = []\n",
    "penjual = []\n",
    "kota = []\n",
    "unit = []\n",
    "rating = []\n",
    "\n",
    "#Mengakses beberapa halaman\n",
    "for nomor_halaman in range (1, 11):\n",
    "    url = f\" https://www.tokopedia.com/search?navsource=&page={nomor_halaman}&q=seblak&srp_component_id=02.01.00.00&srp_page_id=&srp_page_title=&st=\"\n",
    "    driver.get(url) #Berhasil mengakses halaman\n",
    "    time.sleep(3) # Waktu tunda selama 3 detik ketika berganti ke page selanjutnya\n",
    "\n",
    "    #Mengambil source dari halaman sekarang yang diakses\n",
    "    html = driver.page_source\n",
    "\n",
    "    #Beautiful Soup akan digunakan\n",
    "    soup = BeautifulSoup(html, \"html.parser\")\n",
    "\n",
    "    # Mengumpulkan item\n",
    "    boxes = soup.find_all('div', {'class':'css-uwyh54'})\n",
    "\n",
    "    #Mengambil Informasi\n",
    "    for box in boxes:\n",
    "        \n",
    "        #Mengambil nama\n",
    "        elements_nama = box.find('div', {'class':'prd_link-product-name css-3um8ox'})\n",
    "        nama.append(elements_nama.get_text())\n",
    "\n",
    "        #Mengambil harga\n",
    "        elements_harga = box.find('div', {'class':'prd_link-product-price css-h66vau'})\n",
    "        harga.append(elements_harga.get_text())\n",
    "\n",
    "        #Mengambil nama penjual\n",
    "        elements_penjual = box.find('span', {'class':'prd_link-shop-name css-1kdc32b flip'})\n",
    "        penjual.append(elements_penjual.get_text())\n",
    "\n",
    "        #Mengambil kota toko\n",
    "        elements_kota = box.find('span', {'class':'prd_link-shop-loc css-1kdc32b flip'})\n",
    "        kota.append(elements_kota.get_text())\n",
    "\n",
    "        #Mengambil banyaknya produk terjual\n",
    "        kumpulan_unit = box.find('span', {'class':'prd_label-integrity css-1sgek4h'})\n",
    "        try:\n",
    "            elements_unit = kumpulan_unit.get_text()\n",
    "            unit.append(elements_unit)\n",
    "\n",
    "        except:\n",
    "            unit.append(0)\n",
    "\n",
    "        #Mengambil rating produk\n",
    "        kumpulan_rating = box.find('span', {'class':'prd_rating-average-text css-t70v7i'})\n",
    "        try:\n",
    "            elements_rating = kumpulan_rating.get_text()\n",
    "            rating.append(elements_rating)\n",
    "        except:\n",
    "            rating.append(0)"
   ]
  },
  {
   "cell_type": "code",
   "execution_count": 18,
   "metadata": {},
   "outputs": [
    {
     "data": {
      "text/plain": [
       "350"
      ]
     },
     "execution_count": 18,
     "metadata": {},
     "output_type": "execute_result"
    }
   ],
   "source": [
    "# Mengecek jumlah baris tiap kolom dan hasilnya memiliki jumlah baris yang sama.\n",
    "len(nama)\n",
    "len(harga)\n",
    "len(penjual)\n",
    "len(kota)\n",
    "len(unit)\n",
    "len(rating)"
   ]
  },
  {
   "cell_type": "markdown",
   "metadata": {},
   "source": [
    "Membuat DataFrame yang berisikan kode hasil web scrapping 10 halaman yang kemudian disimpan ke file csv"
   ]
  },
  {
   "cell_type": "code",
   "execution_count": 19,
   "metadata": {},
   "outputs": [],
   "source": [
    "#Membuat DataFrame\n",
    "\n",
    "df = pd.DataFrame({'nama produk': nama,\n",
    "                  'harga produk': harga,\n",
    "                  'nama penjual': penjual,\n",
    "                  'kota toko': kota,\n",
    "                  'produk terjual': unit,\n",
    "                  'rating produk': rating})  #rating toko\n",
    "\n",
    "df\n",
    "df.to_csv(\"jual_seblak.csv\", index=False) #menyimpan ke file csv"
   ]
  },
  {
   "cell_type": "markdown",
   "metadata": {},
   "source": [
    "# DATA EXPLORATION"
   ]
  },
  {
   "cell_type": "code",
   "execution_count": 106,
   "metadata": {},
   "outputs": [
    {
     "data": {
      "text/html": [
       "<div>\n",
       "<style scoped>\n",
       "    .dataframe tbody tr th:only-of-type {\n",
       "        vertical-align: middle;\n",
       "    }\n",
       "\n",
       "    .dataframe tbody tr th {\n",
       "        vertical-align: top;\n",
       "    }\n",
       "\n",
       "    .dataframe thead th {\n",
       "        text-align: right;\n",
       "    }\n",
       "</style>\n",
       "<table border=\"1\" class=\"dataframe\">\n",
       "  <thead>\n",
       "    <tr style=\"text-align: right;\">\n",
       "      <th></th>\n",
       "      <th>nama produk</th>\n",
       "      <th>harga produk</th>\n",
       "      <th>nama penjual</th>\n",
       "      <th>kota toko</th>\n",
       "      <th>produk terjual</th>\n",
       "      <th>rating produk</th>\n",
       "    </tr>\n",
       "  </thead>\n",
       "  <tbody>\n",
       "    <tr>\n",
       "      <th>0</th>\n",
       "      <td>Seblak Rafael, Seblak Coet Instan Halal</td>\n",
       "      <td>Rp25.000</td>\n",
       "      <td>Brother Meat Shop</td>\n",
       "      <td>Depok</td>\n",
       "      <td>250+ terjual</td>\n",
       "      <td>4.9</td>\n",
       "    </tr>\n",
       "    <tr>\n",
       "      <th>1</th>\n",
       "      <td>Seblak Instan</td>\n",
       "      <td>Rp8.000</td>\n",
       "      <td>ROEMAH MOSLEM</td>\n",
       "      <td>Kab. Boyolali</td>\n",
       "      <td>50+ terjual</td>\n",
       "      <td>5.0</td>\n",
       "    </tr>\n",
       "    <tr>\n",
       "      <th>2</th>\n",
       "      <td>KERUPUK MENTAH KERUPUK SEBLAK MENTAH 500 GR</td>\n",
       "      <td>Rp12.500</td>\n",
       "      <td>BociKakang</td>\n",
       "      <td>Jakarta Selatan</td>\n",
       "      <td>100+ terjual</td>\n",
       "      <td>4.9</td>\n",
       "    </tr>\n",
       "    <tr>\n",
       "      <th>3</th>\n",
       "      <td>Kerupuk Bawang Prima / Krupuk Seblak 500gram</td>\n",
       "      <td>Rp17.500</td>\n",
       "      <td>Parengge Rengge bumbu &amp; rempah</td>\n",
       "      <td>Jakarta Timur</td>\n",
       "      <td>5 terjual</td>\n",
       "      <td>5.0</td>\n",
       "    </tr>\n",
       "    <tr>\n",
       "      <th>4</th>\n",
       "      <td>KERUPUK SEBLAK PEDAS DAUN JERUK 100 GR</td>\n",
       "      <td>Rp4.500</td>\n",
       "      <td>BociKakang</td>\n",
       "      <td>Jakarta Selatan</td>\n",
       "      <td>500+ terjual</td>\n",
       "      <td>4.8</td>\n",
       "    </tr>\n",
       "    <tr>\n",
       "      <th>...</th>\n",
       "      <td>...</td>\n",
       "      <td>...</td>\n",
       "      <td>...</td>\n",
       "      <td>...</td>\n",
       "      <td>...</td>\n",
       "      <td>...</td>\n",
       "    </tr>\n",
       "    <tr>\n",
       "      <th>345</th>\n",
       "      <td>seblak kering pedas 250 gr/seblak kencur/kerup...</td>\n",
       "      <td>Rp9.999</td>\n",
       "      <td>aghniya</td>\n",
       "      <td>Tangerang Selatan</td>\n",
       "      <td>500+ terjual</td>\n",
       "      <td>4.8</td>\n",
       "    </tr>\n",
       "    <tr>\n",
       "      <th>346</th>\n",
       "      <td>Gelifood Seblak Instan Kerupuk Mawar Bumbu Ken...</td>\n",
       "      <td>Rp15.000</td>\n",
       "      <td>Lidigeli</td>\n",
       "      <td>Kab. Garut</td>\n",
       "      <td>250+ terjual</td>\n",
       "      <td>4.9</td>\n",
       "    </tr>\n",
       "    <tr>\n",
       "      <th>347</th>\n",
       "      <td>keripik beling/kaca 1/2 kg. bumbu seblak daun ...</td>\n",
       "      <td>Rp25.999</td>\n",
       "      <td>aghniya</td>\n",
       "      <td>Tangerang Selatan</td>\n",
       "      <td>250+ terjual</td>\n",
       "      <td>4.9</td>\n",
       "    </tr>\n",
       "    <tr>\n",
       "      <th>348</th>\n",
       "      <td>Seblak Instan Pedas Home Made</td>\n",
       "      <td>Rp3.500</td>\n",
       "      <td>the Dhecip</td>\n",
       "      <td>Tangerang Selatan</td>\n",
       "      <td>3rb+ terjual</td>\n",
       "      <td>4.9</td>\n",
       "    </tr>\n",
       "    <tr>\n",
       "      <th>349</th>\n",
       "      <td>seblak / paket seblak bumbu komplit pedas ekon...</td>\n",
       "      <td>Rp3.479</td>\n",
       "      <td>Grosir Putra Bdg</td>\n",
       "      <td>Kab. Bandung</td>\n",
       "      <td>250+ terjual</td>\n",
       "      <td>4.8</td>\n",
       "    </tr>\n",
       "  </tbody>\n",
       "</table>\n",
       "<p>350 rows × 6 columns</p>\n",
       "</div>"
      ],
      "text/plain": [
       "                                           nama produk harga produk  \\\n",
       "0              Seblak Rafael, Seblak Coet Instan Halal     Rp25.000   \n",
       "1                                        Seblak Instan      Rp8.000   \n",
       "2          KERUPUK MENTAH KERUPUK SEBLAK MENTAH 500 GR     Rp12.500   \n",
       "3         Kerupuk Bawang Prima / Krupuk Seblak 500gram     Rp17.500   \n",
       "4               KERUPUK SEBLAK PEDAS DAUN JERUK 100 GR      Rp4.500   \n",
       "..                                                 ...          ...   \n",
       "345  seblak kering pedas 250 gr/seblak kencur/kerup...      Rp9.999   \n",
       "346  Gelifood Seblak Instan Kerupuk Mawar Bumbu Ken...     Rp15.000   \n",
       "347  keripik beling/kaca 1/2 kg. bumbu seblak daun ...     Rp25.999   \n",
       "348                      Seblak Instan Pedas Home Made      Rp3.500   \n",
       "349  seblak / paket seblak bumbu komplit pedas ekon...      Rp3.479   \n",
       "\n",
       "                       nama penjual          kota toko produk terjual  \\\n",
       "0                 Brother Meat Shop              Depok   250+ terjual   \n",
       "1                     ROEMAH MOSLEM      Kab. Boyolali    50+ terjual   \n",
       "2                        BociKakang    Jakarta Selatan   100+ terjual   \n",
       "3    Parengge Rengge bumbu & rempah      Jakarta Timur      5 terjual   \n",
       "4                        BociKakang    Jakarta Selatan   500+ terjual   \n",
       "..                              ...                ...            ...   \n",
       "345                         aghniya  Tangerang Selatan   500+ terjual   \n",
       "346                        Lidigeli         Kab. Garut   250+ terjual   \n",
       "347                         aghniya  Tangerang Selatan   250+ terjual   \n",
       "348                      the Dhecip  Tangerang Selatan   3rb+ terjual   \n",
       "349                Grosir Putra Bdg       Kab. Bandung   250+ terjual   \n",
       "\n",
       "     rating produk  \n",
       "0              4.9  \n",
       "1              5.0  \n",
       "2              4.9  \n",
       "3              5.0  \n",
       "4              4.8  \n",
       "..             ...  \n",
       "345            4.8  \n",
       "346            4.9  \n",
       "347            4.9  \n",
       "348            4.9  \n",
       "349            4.8  \n",
       "\n",
       "[350 rows x 6 columns]"
      ]
     },
     "execution_count": 106,
     "metadata": {},
     "output_type": "execute_result"
    }
   ],
   "source": [
    "df = pd.read_csv(\"/Users/putriarzalya/Desktop/p0-ftds013-hck-g3-putriarzlya/jual_seblak.csv\") # Membuka file csv\n",
    "\n",
    "df"
   ]
  },
  {
   "cell_type": "markdown",
   "metadata": {},
   "source": [
    "Setelah melihat isi dari dataframe, langkah selanjutnya yaitu mengetahui tipe data dari tiap kolom dan juga melihat isi dari kolom apakah terdapat missing value atau tidak."
   ]
  },
  {
   "cell_type": "code",
   "execution_count": 107,
   "metadata": {},
   "outputs": [
    {
     "name": "stdout",
     "output_type": "stream",
     "text": [
      "<class 'pandas.core.frame.DataFrame'>\n",
      "RangeIndex: 350 entries, 0 to 349\n",
      "Data columns (total 6 columns):\n",
      " #   Column          Non-Null Count  Dtype  \n",
      "---  ------          --------------  -----  \n",
      " 0   nama produk     350 non-null    object \n",
      " 1   harga produk    350 non-null    object \n",
      " 2   nama penjual    350 non-null    object \n",
      " 3   kota toko       350 non-null    object \n",
      " 4   produk terjual  350 non-null    object \n",
      " 5   rating produk   350 non-null    float64\n",
      "dtypes: float64(1), object(5)\n",
      "memory usage: 16.5+ KB\n"
     ]
    }
   ],
   "source": [
    "df.info()"
   ]
  },
  {
   "cell_type": "markdown",
   "metadata": {},
   "source": [
    "Mengetahui missing value lebih detail dengan menunjukkan jika \"False\" = tidak ada missing value dan \"True\" = ada missing value."
   ]
  },
  {
   "cell_type": "code",
   "execution_count": 108,
   "metadata": {},
   "outputs": [
    {
     "data": {
      "text/plain": [
       "nama produk       False\n",
       "harga produk      False\n",
       "nama penjual      False\n",
       "kota toko         False\n",
       "produk terjual    False\n",
       "rating produk     False\n",
       "dtype: bool"
      ]
     },
     "execution_count": 108,
     "metadata": {},
     "output_type": "execute_result"
    }
   ],
   "source": [
    "df.isnull().any()"
   ]
  },
  {
   "cell_type": "code",
   "execution_count": 109,
   "metadata": {},
   "outputs": [
    {
     "data": {
      "text/plain": [
       "nama produk       0\n",
       "harga produk      0\n",
       "nama penjual      0\n",
       "kota toko         0\n",
       "produk terjual    0\n",
       "rating produk     0\n",
       "dtype: int64"
      ]
     },
     "execution_count": 109,
     "metadata": {},
     "output_type": "execute_result"
    }
   ],
   "source": [
    "df.isnull().sum() # Mengetahui jumlah missing value"
   ]
  },
  {
   "cell_type": "markdown",
   "metadata": {},
   "source": [
    "Selanjutnya, mengetahui nilai yang unik pada setiap kolom serta tipe data yaitu int64."
   ]
  },
  {
   "cell_type": "code",
   "execution_count": 110,
   "metadata": {},
   "outputs": [
    {
     "data": {
      "text/plain": [
       "nama produk       100\n",
       "harga produk       69\n",
       "nama penjual       68\n",
       "kota toko          21\n",
       "produk terjual     34\n",
       "rating produk      11\n",
       "dtype: int64"
      ]
     },
     "execution_count": 110,
     "metadata": {},
     "output_type": "execute_result"
    }
   ],
   "source": [
    "df.nunique()"
   ]
  },
  {
   "cell_type": "markdown",
   "metadata": {},
   "source": [
    "- Mengetahui isi/nilai dari kolom \"rating produk\".\n",
    "- Dengan menggunakan value_counts dapat mengetahui isi/value dari suatu kolom sehingga hal ini berlaku di kolom lainnya"
   ]
  },
  {
   "cell_type": "code",
   "execution_count": 111,
   "metadata": {},
   "outputs": [
    {
     "data": {
      "text/plain": [
       "<bound method IndexOpsMixin.value_counts of 0      4.9\n",
       "1      5.0\n",
       "2      4.9\n",
       "3      5.0\n",
       "4      4.8\n",
       "      ... \n",
       "345    4.8\n",
       "346    4.9\n",
       "347    4.9\n",
       "348    4.9\n",
       "349    4.8\n",
       "Name: rating produk, Length: 350, dtype: float64>"
      ]
     },
     "execution_count": 111,
     "metadata": {},
     "output_type": "execute_result"
    }
   ],
   "source": [
    "df['rating produk'].value_counts"
   ]
  },
  {
   "cell_type": "markdown",
   "metadata": {},
   "source": [
    "# DATA CLEANING"
   ]
  },
  {
   "cell_type": "markdown",
   "metadata": {},
   "source": [
    "- Memformat teks agar sesuai dengan standar \"title case\" seperti nama produk, nama nama penjual, dan asal kota toko penjual.\n",
    "- Menghilangkan \"Rp\" , \"+ terjual\" , \"rb\" agar dapat dilakukan perhitungan statistik"
   ]
  },
  {
   "cell_type": "code",
   "execution_count": 112,
   "metadata": {},
   "outputs": [
    {
     "data": {
      "text/html": [
       "<div>\n",
       "<style scoped>\n",
       "    .dataframe tbody tr th:only-of-type {\n",
       "        vertical-align: middle;\n",
       "    }\n",
       "\n",
       "    .dataframe tbody tr th {\n",
       "        vertical-align: top;\n",
       "    }\n",
       "\n",
       "    .dataframe thead th {\n",
       "        text-align: right;\n",
       "    }\n",
       "</style>\n",
       "<table border=\"1\" class=\"dataframe\">\n",
       "  <thead>\n",
       "    <tr style=\"text-align: right;\">\n",
       "      <th></th>\n",
       "      <th>nama produk</th>\n",
       "      <th>harga produk</th>\n",
       "      <th>nama penjual</th>\n",
       "      <th>kota toko</th>\n",
       "      <th>produk terjual</th>\n",
       "      <th>rating produk</th>\n",
       "    </tr>\n",
       "  </thead>\n",
       "  <tbody>\n",
       "    <tr>\n",
       "      <th>0</th>\n",
       "      <td>Seblak Rafael, Seblak Coet Instan Halal</td>\n",
       "      <td>25000</td>\n",
       "      <td>Brother Meat Shop</td>\n",
       "      <td>Depok</td>\n",
       "      <td>250</td>\n",
       "      <td>4.9</td>\n",
       "    </tr>\n",
       "    <tr>\n",
       "      <th>1</th>\n",
       "      <td>Seblak Instan</td>\n",
       "      <td>8000</td>\n",
       "      <td>Roemah Moslem</td>\n",
       "      <td>Kab. Boyolali</td>\n",
       "      <td>50</td>\n",
       "      <td>5.0</td>\n",
       "    </tr>\n",
       "    <tr>\n",
       "      <th>2</th>\n",
       "      <td>Kerupuk Mentah Kerupuk Seblak Mentah 500 Gr</td>\n",
       "      <td>12500</td>\n",
       "      <td>Bocikakang</td>\n",
       "      <td>Jakarta Selatan</td>\n",
       "      <td>100</td>\n",
       "      <td>4.9</td>\n",
       "    </tr>\n",
       "    <tr>\n",
       "      <th>3</th>\n",
       "      <td>Kerupuk Bawang Prima / Krupuk Seblak 500Gram</td>\n",
       "      <td>17500</td>\n",
       "      <td>Parengge Rengge Bumbu &amp; Rempah</td>\n",
       "      <td>Jakarta Timur</td>\n",
       "      <td>5</td>\n",
       "      <td>5.0</td>\n",
       "    </tr>\n",
       "    <tr>\n",
       "      <th>4</th>\n",
       "      <td>Kerupuk Seblak Pedas Daun Jeruk 100 Gr</td>\n",
       "      <td>4500</td>\n",
       "      <td>Bocikakang</td>\n",
       "      <td>Jakarta Selatan</td>\n",
       "      <td>500</td>\n",
       "      <td>4.8</td>\n",
       "    </tr>\n",
       "    <tr>\n",
       "      <th>...</th>\n",
       "      <td>...</td>\n",
       "      <td>...</td>\n",
       "      <td>...</td>\n",
       "      <td>...</td>\n",
       "      <td>...</td>\n",
       "      <td>...</td>\n",
       "    </tr>\n",
       "    <tr>\n",
       "      <th>345</th>\n",
       "      <td>Seblak Kering Pedas 250 Gr/Seblak Kencur/Kerup...</td>\n",
       "      <td>9999</td>\n",
       "      <td>Aghniya</td>\n",
       "      <td>Tangerang Selatan</td>\n",
       "      <td>500</td>\n",
       "      <td>4.8</td>\n",
       "    </tr>\n",
       "    <tr>\n",
       "      <th>346</th>\n",
       "      <td>Gelifood Seblak Instan Kerupuk Mawar Bumbu Ken...</td>\n",
       "      <td>15000</td>\n",
       "      <td>Lidigeli</td>\n",
       "      <td>Kab. Garut</td>\n",
       "      <td>250</td>\n",
       "      <td>4.9</td>\n",
       "    </tr>\n",
       "    <tr>\n",
       "      <th>347</th>\n",
       "      <td>Keripik Beling/Kaca 1/2 Kg. Bumbu Seblak Daun ...</td>\n",
       "      <td>25999</td>\n",
       "      <td>Aghniya</td>\n",
       "      <td>Tangerang Selatan</td>\n",
       "      <td>250</td>\n",
       "      <td>4.9</td>\n",
       "    </tr>\n",
       "    <tr>\n",
       "      <th>348</th>\n",
       "      <td>Seblak Instan Pedas Home Made</td>\n",
       "      <td>3500</td>\n",
       "      <td>The Dhecip</td>\n",
       "      <td>Tangerang Selatan</td>\n",
       "      <td>3000</td>\n",
       "      <td>4.9</td>\n",
       "    </tr>\n",
       "    <tr>\n",
       "      <th>349</th>\n",
       "      <td>Seblak / Paket Seblak Bumbu Komplit Pedas Ekon...</td>\n",
       "      <td>3479</td>\n",
       "      <td>Grosir Putra Bdg</td>\n",
       "      <td>Kab. Bandung</td>\n",
       "      <td>250</td>\n",
       "      <td>4.8</td>\n",
       "    </tr>\n",
       "  </tbody>\n",
       "</table>\n",
       "<p>350 rows × 6 columns</p>\n",
       "</div>"
      ],
      "text/plain": [
       "                                           nama produk harga produk  \\\n",
       "0              Seblak Rafael, Seblak Coet Instan Halal        25000   \n",
       "1                                        Seblak Instan         8000   \n",
       "2          Kerupuk Mentah Kerupuk Seblak Mentah 500 Gr        12500   \n",
       "3         Kerupuk Bawang Prima / Krupuk Seblak 500Gram        17500   \n",
       "4               Kerupuk Seblak Pedas Daun Jeruk 100 Gr         4500   \n",
       "..                                                 ...          ...   \n",
       "345  Seblak Kering Pedas 250 Gr/Seblak Kencur/Kerup...         9999   \n",
       "346  Gelifood Seblak Instan Kerupuk Mawar Bumbu Ken...        15000   \n",
       "347  Keripik Beling/Kaca 1/2 Kg. Bumbu Seblak Daun ...        25999   \n",
       "348                      Seblak Instan Pedas Home Made         3500   \n",
       "349  Seblak / Paket Seblak Bumbu Komplit Pedas Ekon...         3479   \n",
       "\n",
       "                       nama penjual          kota toko produk terjual  \\\n",
       "0                 Brother Meat Shop              Depok           250    \n",
       "1                     Roemah Moslem      Kab. Boyolali            50    \n",
       "2                        Bocikakang    Jakarta Selatan           100    \n",
       "3    Parengge Rengge Bumbu & Rempah      Jakarta Timur             5    \n",
       "4                        Bocikakang    Jakarta Selatan           500    \n",
       "..                              ...                ...            ...   \n",
       "345                         Aghniya  Tangerang Selatan           500    \n",
       "346                        Lidigeli         Kab. Garut           250    \n",
       "347                         Aghniya  Tangerang Selatan           250    \n",
       "348                      The Dhecip  Tangerang Selatan          3000    \n",
       "349                Grosir Putra Bdg       Kab. Bandung           250    \n",
       "\n",
       "     rating produk  \n",
       "0              4.9  \n",
       "1              5.0  \n",
       "2              4.9  \n",
       "3              5.0  \n",
       "4              4.8  \n",
       "..             ...  \n",
       "345            4.8  \n",
       "346            4.9  \n",
       "347            4.9  \n",
       "348            4.9  \n",
       "349            4.8  \n",
       "\n",
       "[350 rows x 6 columns]"
      ]
     },
     "execution_count": 112,
     "metadata": {},
     "output_type": "execute_result"
    }
   ],
   "source": [
    "# Mengatur ulang format teks\n",
    "df['nama produk'] = df['nama produk'].apply(lambda x: x.title())\n",
    "df['nama penjual'] = df['nama penjual'].apply(lambda x: x.title())\n",
    "df['kota toko'] = df['kota toko'].apply(lambda x: x.title())\n",
    "\n",
    "# Menghilangkan \"Rp\" & \".\" agar dapat dilakukan perhitungan \n",
    "df['harga produk'] = df['harga produk'].str.replace('Rp', '').str.replace('.', '')\n",
    "\n",
    "# Menghilangkan \"+ terjual\" dalam produk terjual\n",
    "df['produk terjual'] = df['produk terjual'].str.replace('+', '').str.replace('terjual', '').str.replace('rb', '000')\n",
    "\n",
    "df"
   ]
  },
  {
   "cell_type": "markdown",
   "metadata": {},
   "source": [
    "Menghapus baris yang mengandung nilai yang sama di semua kolom dari DataFrame."
   ]
  },
  {
   "cell_type": "code",
   "execution_count": 113,
   "metadata": {},
   "outputs": [
    {
     "data": {
      "text/html": [
       "<div>\n",
       "<style scoped>\n",
       "    .dataframe tbody tr th:only-of-type {\n",
       "        vertical-align: middle;\n",
       "    }\n",
       "\n",
       "    .dataframe tbody tr th {\n",
       "        vertical-align: top;\n",
       "    }\n",
       "\n",
       "    .dataframe thead th {\n",
       "        text-align: right;\n",
       "    }\n",
       "</style>\n",
       "<table border=\"1\" class=\"dataframe\">\n",
       "  <thead>\n",
       "    <tr style=\"text-align: right;\">\n",
       "      <th></th>\n",
       "      <th>nama produk</th>\n",
       "      <th>harga produk</th>\n",
       "      <th>nama penjual</th>\n",
       "      <th>kota toko</th>\n",
       "      <th>produk terjual</th>\n",
       "      <th>rating produk</th>\n",
       "    </tr>\n",
       "  </thead>\n",
       "  <tbody>\n",
       "    <tr>\n",
       "      <th>0</th>\n",
       "      <td>Seblak Rafael, Seblak Coet Instan Halal</td>\n",
       "      <td>25000</td>\n",
       "      <td>Brother Meat Shop</td>\n",
       "      <td>Depok</td>\n",
       "      <td>250</td>\n",
       "      <td>4.9</td>\n",
       "    </tr>\n",
       "    <tr>\n",
       "      <th>1</th>\n",
       "      <td>Seblak Instan</td>\n",
       "      <td>8000</td>\n",
       "      <td>Roemah Moslem</td>\n",
       "      <td>Kab. Boyolali</td>\n",
       "      <td>50</td>\n",
       "      <td>5.0</td>\n",
       "    </tr>\n",
       "    <tr>\n",
       "      <th>2</th>\n",
       "      <td>Kerupuk Mentah Kerupuk Seblak Mentah 500 Gr</td>\n",
       "      <td>12500</td>\n",
       "      <td>Bocikakang</td>\n",
       "      <td>Jakarta Selatan</td>\n",
       "      <td>100</td>\n",
       "      <td>4.9</td>\n",
       "    </tr>\n",
       "    <tr>\n",
       "      <th>3</th>\n",
       "      <td>Kerupuk Bawang Prima / Krupuk Seblak 500Gram</td>\n",
       "      <td>17500</td>\n",
       "      <td>Parengge Rengge Bumbu &amp; Rempah</td>\n",
       "      <td>Jakarta Timur</td>\n",
       "      <td>5</td>\n",
       "      <td>5.0</td>\n",
       "    </tr>\n",
       "    <tr>\n",
       "      <th>4</th>\n",
       "      <td>Kerupuk Seblak Pedas Daun Jeruk 100 Gr</td>\n",
       "      <td>4500</td>\n",
       "      <td>Bocikakang</td>\n",
       "      <td>Jakarta Selatan</td>\n",
       "      <td>500</td>\n",
       "      <td>4.8</td>\n",
       "    </tr>\n",
       "    <tr>\n",
       "      <th>...</th>\n",
       "      <td>...</td>\n",
       "      <td>...</td>\n",
       "      <td>...</td>\n",
       "      <td>...</td>\n",
       "      <td>...</td>\n",
       "      <td>...</td>\n",
       "    </tr>\n",
       "    <tr>\n",
       "      <th>320</th>\n",
       "      <td>Seblak Makroni Pedas Gurih Ekstra Daun Jeruk 1...</td>\n",
       "      <td>5000</td>\n",
       "      <td>Seblak Putra Bandung</td>\n",
       "      <td>Kab. Bandung</td>\n",
       "      <td>100</td>\n",
       "      <td>4.8</td>\n",
       "    </tr>\n",
       "    <tr>\n",
       "      <th>321</th>\n",
       "      <td>Kerupuk Seblak Maknyik</td>\n",
       "      <td>18000</td>\n",
       "      <td>Dilladystore</td>\n",
       "      <td>Malang</td>\n",
       "      <td>60</td>\n",
       "      <td>4.9</td>\n",
       "    </tr>\n",
       "    <tr>\n",
       "      <th>322</th>\n",
       "      <td>Kerupuk Seblak Kencur Pedas 100 Gram</td>\n",
       "      <td>5000</td>\n",
       "      <td>Keripikususkrisis</td>\n",
       "      <td>Kab. Gresik</td>\n",
       "      <td>60</td>\n",
       "      <td>4.9</td>\n",
       "    </tr>\n",
       "    <tr>\n",
       "      <th>323</th>\n",
       "      <td>Kerupuk Seblak Kering Sebring Pedas Daun Jeruk...</td>\n",
       "      <td>4500</td>\n",
       "      <td>Pedas Gilaa</td>\n",
       "      <td>Surabaya</td>\n",
       "      <td>500</td>\n",
       "      <td>4.9</td>\n",
       "    </tr>\n",
       "    <tr>\n",
       "      <th>324</th>\n",
       "      <td>Seblak Baso Aci Instan</td>\n",
       "      <td>13500</td>\n",
       "      <td>Hilmandza</td>\n",
       "      <td>Kab. Tangerang</td>\n",
       "      <td>8</td>\n",
       "      <td>5.0</td>\n",
       "    </tr>\n",
       "  </tbody>\n",
       "</table>\n",
       "<p>100 rows × 6 columns</p>\n",
       "</div>"
      ],
      "text/plain": [
       "                                           nama produk harga produk  \\\n",
       "0              Seblak Rafael, Seblak Coet Instan Halal        25000   \n",
       "1                                        Seblak Instan         8000   \n",
       "2          Kerupuk Mentah Kerupuk Seblak Mentah 500 Gr        12500   \n",
       "3         Kerupuk Bawang Prima / Krupuk Seblak 500Gram        17500   \n",
       "4               Kerupuk Seblak Pedas Daun Jeruk 100 Gr         4500   \n",
       "..                                                 ...          ...   \n",
       "320  Seblak Makroni Pedas Gurih Ekstra Daun Jeruk 1...         5000   \n",
       "321                             Kerupuk Seblak Maknyik        18000   \n",
       "322               Kerupuk Seblak Kencur Pedas 100 Gram         5000   \n",
       "323  Kerupuk Seblak Kering Sebring Pedas Daun Jeruk...         4500   \n",
       "324                             Seblak Baso Aci Instan        13500   \n",
       "\n",
       "                       nama penjual        kota toko produk terjual  \\\n",
       "0                 Brother Meat Shop            Depok           250    \n",
       "1                     Roemah Moslem    Kab. Boyolali            50    \n",
       "2                        Bocikakang  Jakarta Selatan           100    \n",
       "3    Parengge Rengge Bumbu & Rempah    Jakarta Timur             5    \n",
       "4                        Bocikakang  Jakarta Selatan           500    \n",
       "..                              ...              ...            ...   \n",
       "320            Seblak Putra Bandung     Kab. Bandung           100    \n",
       "321                    Dilladystore           Malang            60    \n",
       "322               Keripikususkrisis      Kab. Gresik            60    \n",
       "323                     Pedas Gilaa         Surabaya           500    \n",
       "324                       Hilmandza   Kab. Tangerang             8    \n",
       "\n",
       "     rating produk  \n",
       "0              4.9  \n",
       "1              5.0  \n",
       "2              4.9  \n",
       "3              5.0  \n",
       "4              4.8  \n",
       "..             ...  \n",
       "320            4.8  \n",
       "321            4.9  \n",
       "322            4.9  \n",
       "323            4.9  \n",
       "324            5.0  \n",
       "\n",
       "[100 rows x 6 columns]"
      ]
     },
     "execution_count": 113,
     "metadata": {},
     "output_type": "execute_result"
    }
   ],
   "source": [
    "df.drop_duplicates(inplace=True) #inplace=True agar hasil setelah drop duplicates otomatis tersimpan di df.\n",
    "\n",
    "df"
   ]
  },
  {
   "cell_type": "markdown",
   "metadata": {},
   "source": [
    "Merubah tipe data ke yang seharusnya\n",
    "- harga produk dari Object menjadi Integer\n",
    "- produk terjual dari Object menjadi Integer"
   ]
  },
  {
   "cell_type": "code",
   "execution_count": 114,
   "metadata": {},
   "outputs": [
    {
     "data": {
      "text/plain": [
       "nama produk        object\n",
       "harga produk        int64\n",
       "nama penjual       object\n",
       "kota toko          object\n",
       "produk terjual      int64\n",
       "rating produk     float64\n",
       "dtype: object"
      ]
     },
     "execution_count": 114,
     "metadata": {},
     "output_type": "execute_result"
    }
   ],
   "source": [
    "# Merubah tipe data\n",
    "df['harga produk'] = df['harga produk'].astype(int)\n",
    "df['produk terjual'] = df['produk terjual'].astype(int)\n",
    "\n",
    "df.dtypes"
   ]
  },
  {
   "cell_type": "markdown",
   "metadata": {},
   "source": [
    "Selanjutnya setelah cleaning data selesai, hasil cleaning data tersebut disimpan kembali dalam bentuk csv"
   ]
  },
  {
   "cell_type": "code",
   "execution_count": 115,
   "metadata": {},
   "outputs": [],
   "source": [
    "df.to_csv(\"jual_seblak_clean.csv\", index=False) #menyimpan ke file csv"
   ]
  },
  {
   "cell_type": "markdown",
   "metadata": {},
   "source": [
    "# Business Understanding/Problem Statement"
   ]
  },
  {
   "cell_type": "markdown",
   "metadata": {},
   "source": [
    "### SMART FRAMEWORK"
   ]
  },
  {
   "cell_type": "markdown",
   "metadata": {},
   "source": [
    "Case : Saya memiliki pekerjaan tetap akan tetapi saya merasa harus memiliki pendapatan tambahan diluar pekerjaan saya karena keperluan saya yang semakin banyak oleh karena itu saya memilih sebagai dropshipper dimana saya mencari supplier seblak di toko kemudian saya menjualnya lagi di Tokopedia dengan sedikit perubahan harga yang lebih mahal dari yang saya beli di toko.\n",
    "\n",
    "- Spesific : Mendapatkan pendapatan tambahan dengan bekerja sebagai dropshipper yang kemudian produk tersebut dijual di Tokopedia.\n",
    "\n",
    "- Measureable : Menambahkan pendapatan dari yang sebelumnya. Dari pendapatan awalnya yaitu Rp5.000.000 menjadi Rp6.000.000,00 karena melakukan penjualan seblak di Tokopedia (sebagai dropshipper). Metriks yang digunakan yaitu Gross Margin dimana mengukur efisiensi dalam menghasilkan keuntungan (keuntungan yang dimaksud sebagai pendapatan tambahan).\n",
    "\n",
    "- Achievable : Berdasarkan analisis data yang diperoleh melalui web scrapping Tokopedia yang berisi penjualan seblak, dapat dikatakan melakukan penjualan seblak di Tokopedia bisa mendapatkan pendapatan tambahan hingga total pendapatan sebulan menjadi Rp6.000.000,00.\n",
    "\n",
    "- Relevant : Melakukan penjualan seblak di Tokopedia (sebagai dropshipper) dapat mempengaruhi penambahan pendapatan kita dari sebelumnya.\n",
    "\n",
    "- Time Bound : Waktu yang dibutuhkan untuk melakukan ini 2 bulan. Dimana 1 bulan pertama mengecek hal-hal yang diperlukan sebelum dilakukannya. 1 bulan selanjutnya yaitu mengeksekusikan apa yang direncanakan dan memperoleh pendapatan tambahan hingga total pendapatan bisa tercapai sebesar Rp6.000.000,00.\n",
    "\n",
    "kesimpulan: melakukan penjualan seblak di Tokopedia (sebagai dropshipper) dengan tujuan untuk meningkatkan pendapatan tambahan dimana dilaksanakan dalam waktu 2 bulan."
   ]
  },
  {
   "cell_type": "markdown",
   "metadata": {},
   "source": [
    "# Data Analysis"
   ]
  },
  {
   "cell_type": "markdown",
   "metadata": {},
   "source": [
    "#### Menghitung Rata-rata, median, standar deviasi, skewness, dan kurtosis dari kolom Harga, jumlah produk terjual, dan rating."
   ]
  },
  {
   "cell_type": "code",
   "execution_count": 133,
   "metadata": {},
   "outputs": [
    {
     "name": "stdout",
     "output_type": "stream",
     "text": [
      "count       100.000000\n",
      "mean      22103.110000\n",
      "std       27151.964907\n",
      "min        3000.000000\n",
      "25%       10000.000000\n",
      "50%       15500.000000\n",
      "75%       25000.000000\n",
      "max      199999.000000\n",
      "Name: harga produk, dtype: float64\n",
      "Nilai skewness yang diperoleh dari kolom harga produk yaitu 4.745333661402658\n",
      "Nilai kurtosis yang diperoleh dari kolom harga produk yaitu 26.96612614841103\n"
     ]
    }
   ],
   "source": [
    "# Mean,Median,Standar Deviasi dari kolom \"harga produk\" menggunakan method .describe\n",
    "desc = df['harga produk'].describe()\n",
    "print(desc)\n",
    "\n",
    "# Menghitung skewness menggunakan method .skew() dari kolom \"harga produk\"\n",
    "skewness = df['harga produk'].skew()\n",
    "print(f'Nilai skewness yang diperoleh dari kolom harga produk yaitu {skewness}')\n",
    "\n",
    "# Menghitung kurtosis menggunakan method .kurtosis() dari kolom \"harga produk\"\n",
    "kurtosis_value = df['harga produk'].kurtosis()\n",
    "print(f'Nilai kurtosis yang diperoleh dari kolom harga produk yaitu {kurtosis_value}')"
   ]
  },
  {
   "cell_type": "markdown",
   "metadata": {},
   "source": [
    "Dikarenakan nilai skewness >= 0.5 maka digunakan teknik Tukey's Rule untuk menentukan adanya outlier atau tidak dengan rumus berikut:\n",
    "- IQR = Q3-Q1 = 25.000 - 10.000 = 15.000 \n",
    "- Batas Bawah : 10.000 - 1.5 * 15.000 = -12.500\n",
    "- Batas Atas : 25.000 + 1.5 * 15.000 = 2.500 (Adanya outlier karna terdapat harga yang diatas Rp2.500)"
   ]
  },
  {
   "cell_type": "code",
   "execution_count": 134,
   "metadata": {},
   "outputs": [
    {
     "name": "stdout",
     "output_type": "stream",
     "text": [
      "count      100.000000\n",
      "mean       622.910000\n",
      "std       1796.514156\n",
      "min          0.000000\n",
      "25%         30.000000\n",
      "50%         90.000000\n",
      "75%        250.000000\n",
      "max      10000.000000\n",
      "Name: produk terjual, dtype: float64\n",
      "Nilai skewness yang diperoleh dari kolom produk terjual yaitu 4.54484893926742\n",
      "Nilai kurtosis yang diperoleh dari kolom produk terjual yaitu 21.120739099843302\n"
     ]
    }
   ],
   "source": [
    "# Mean,Median,Standar Deviasi dari kolom \"produk terjual\" menggunakan method .describe\n",
    "desc = df['produk terjual'].describe()\n",
    "print(desc)\n",
    "\n",
    "# Menghitung skewness menggunakan method .skew() dari kolom \"produk terjual\"\n",
    "skewness = df['produk terjual'].skew()\n",
    "print(f'Nilai skewness yang diperoleh dari kolom produk terjual yaitu {skewness}')\n",
    "\n",
    "# Menghitung kurtosis menggunakan method .kurtosis() dari kolom \"produk terjual\"\n",
    "kurtosis_value = df['produk terjual'].kurtosis()\n",
    "print(f'Nilai kurtosis yang diperoleh dari kolom produk terjual yaitu {kurtosis_value}')"
   ]
  },
  {
   "cell_type": "markdown",
   "metadata": {},
   "source": [
    "Dikarenakan nilai skewness >= 0.5 maka digunakan teknik Tukey's Rule untuk menentukan adanya outlier atau tidak dengan rumus berikut:\n",
    "- IQR = Q3-Q1 = 250 - 30 = 220\n",
    "- Batas Bawah = 30 - 1.5 * 220 = -300\n",
    "- Batas Atas = 250 + 1.5 * 220 = 580 (Adanya outlier karna terdapat produk yang terjual melebihi 580)"
   ]
  },
  {
   "cell_type": "code",
   "execution_count": 130,
   "metadata": {},
   "outputs": [
    {
     "name": "stdout",
     "output_type": "stream",
     "text": [
      "count    100.000000\n",
      "mean       4.729000\n",
      "std        0.856266\n",
      "min        0.000000\n",
      "25%        4.800000\n",
      "50%        4.900000\n",
      "75%        5.000000\n",
      "max        5.000000\n",
      "Name: rating produk, dtype: float64\n",
      "Nilai skewness yang diperoleh dari kolom rating produk yaitu -5.215919749049569\n",
      "Nilai kurtosis yang diperoleh dari kolom rating produk yaitu 26.88664515288853\n"
     ]
    }
   ],
   "source": [
    "# Mean,Median,Standar Deviasi dari kolom \"rating produk\" menggunakan method .describe\n",
    "desc = df['rating produk'].describe()\n",
    "print(desc)\n",
    "\n",
    "# Menghitung skewness menggunakan method .skew() dari kolom \"rating produk\"\n",
    "skewness = df['rating produk'].skew()\n",
    "print(f'Nilai skewness yang diperoleh dari kolom rating produk yaitu {skewness}')\n",
    "\n",
    "# Menghitung skewness menggunakan method .kurtosis() dari kolom \"rating produk\"\n",
    "kurtosis_value = df['rating produk'].kurtosis()\n",
    "print(f'Nilai kurtosis yang diperoleh dari kolom rating produk yaitu {kurtosis_value}')\n"
   ]
  },
  {
   "cell_type": "markdown",
   "metadata": {},
   "source": [
    "Dikarenakan nilai skewness < 0.5 maka digunakan teknik Z-Score dengan rumus berikut:\n",
    "- Batas Bawah = mean - 3*std = 4.7 - (3*0.8) = 2.3\n",
    "- Batas Atas = mean + 3*std = 4.7 + (3*0.8) = 7.1 (Tidak ada outlier karena tidak ada produk dengan rating diatas 7.1)"
   ]
  },
  {
   "cell_type": "markdown",
   "metadata": {},
   "source": [
    "#### Potensi Minimum dan Maksimum Pendapatan Menjual Produk Seblak"
   ]
  },
  {
   "cell_type": "markdown",
   "metadata": {},
   "source": [
    "Untuk menghitung Minimum dan Maksimum Pendapatan, cara yang dilakukan yaitu:\n",
    "- Menghitung nilai rata-rata dan standar deviasi pendapatan dari penjualan seblak\n",
    "- Menghitung confidence interval (tingkat kepercayaan) = Mean ± Z * (Standard Deviation / √(Sample Size)). Jika confidence interval 95% maka diperoleh Z yaitu 1.96.\n",
    "- Menghitung lower value(minimum) dan upper value(maksimum)"
   ]
  },
  {
   "cell_type": "code",
   "execution_count": 119,
   "metadata": {},
   "outputs": [
    {
     "name": "stdout",
     "output_type": "stream",
     "text": [
      "error margin sebesar 7358303.064450381\n",
      "Nilai potensi minimum pendapatan dari penjualan seblak yaitu 3084351.7855496183\n",
      "Nilai potensi maksimum pendapatan dari penjualan seblak yaitu 17800957.91445038\n"
     ]
    }
   ],
   "source": [
    "# Menghitung Pendapatan\n",
    "pendapatan = df['harga produk'] * df['produk terjual']\n",
    "\n",
    "# Menghitung Rata-Rata dan Standar Deviasi pendapatan\n",
    "mean_pendapatan = np.mean(pendapatan)\n",
    "std_pendapatan = np.std(pendapatan)\n",
    "\n",
    "confidence_level = 0.95\n",
    "z_score = 1.96\n",
    "\n",
    "# Menghitung Confidence Interval\n",
    "error_margin = z_score * (std_pendapatan / np.sqrt(len(pendapatan)))\n",
    "print(f'error margin sebesar {error_margin}')\n",
    "nilai_minimum = mean_pendapatan - error_margin\n",
    "nilai_maksimum = mean_pendapatan + error_margin\n",
    "\n",
    "print(f'Nilai potensi minimum pendapatan dari penjualan seblak yaitu {nilai_minimum}')\n",
    "print(f'Nilai potensi maksimum pendapatan dari penjualan seblak yaitu {nilai_maksimum}')"
   ]
  },
  {
   "cell_type": "markdown",
   "metadata": {},
   "source": [
    "- Margin of error (error_margin) merupakan pandangan tentang batas atas dan bawah dari perkiraan yang dihasilkan dari sampel data.\n",
    "- Berdasarkan hasil Confidence Interval 95%, diperoleh:\n",
    "- Potensi pendapatan minimum yang diperoleh dari penjualan seblak yaitu sebesar Rp3.084.351,78\n",
    "- Potensi pendapatan maksimum yang diperoleh dari penjualan seblak yaitu sebesar Rp17.800.957,91"
   ]
  },
  {
   "cell_type": "markdown",
   "metadata": {},
   "source": [
    "#### Harga Barang di Jabodetabek dan diluar Jabodetabek"
   ]
  },
  {
   "cell_type": "markdown",
   "metadata": {},
   "source": [
    "- Dalam kasus ini digunakan hipotesis, yaitu:\n",
    "- H0 : tidak ada perbedaan signifikan antara harga barang di Jabodetabek dan diluar Jabodetabek\n",
    "- H1 : ada perbedaan signifikan antara harga barang di Jabodetabek dan diluar Jabodetabek\n",
    "\n",
    "- Jenis hipotesis yang digunakan dalam kasus ini yaitu berupa membandingkan harga seblak di Jabodetabek dan diluar jabodetabek maka menggunakan uji hipotesis dua sampel independen."
   ]
  },
  {
   "cell_type": "code",
   "execution_count": 120,
   "metadata": {},
   "outputs": [
    {
     "data": {
      "text/html": [
       "<div>\n",
       "<style scoped>\n",
       "    .dataframe tbody tr th:only-of-type {\n",
       "        vertical-align: middle;\n",
       "    }\n",
       "\n",
       "    .dataframe tbody tr th {\n",
       "        vertical-align: top;\n",
       "    }\n",
       "\n",
       "    .dataframe thead th {\n",
       "        text-align: right;\n",
       "    }\n",
       "</style>\n",
       "<table border=\"1\" class=\"dataframe\">\n",
       "  <thead>\n",
       "    <tr style=\"text-align: right;\">\n",
       "      <th></th>\n",
       "      <th>nama produk</th>\n",
       "      <th>harga produk</th>\n",
       "      <th>nama penjual</th>\n",
       "      <th>kota toko</th>\n",
       "      <th>produk terjual</th>\n",
       "      <th>rating produk</th>\n",
       "      <th>zona</th>\n",
       "    </tr>\n",
       "  </thead>\n",
       "  <tbody>\n",
       "    <tr>\n",
       "      <th>0</th>\n",
       "      <td>Seblak Rafael, Seblak Coet Instan Halal</td>\n",
       "      <td>25000</td>\n",
       "      <td>Brother Meat Shop</td>\n",
       "      <td>Depok</td>\n",
       "      <td>250</td>\n",
       "      <td>4.9</td>\n",
       "      <td>1</td>\n",
       "    </tr>\n",
       "    <tr>\n",
       "      <th>1</th>\n",
       "      <td>Seblak Instan</td>\n",
       "      <td>8000</td>\n",
       "      <td>Roemah Moslem</td>\n",
       "      <td>Kab. Boyolali</td>\n",
       "      <td>50</td>\n",
       "      <td>5.0</td>\n",
       "      <td>2</td>\n",
       "    </tr>\n",
       "    <tr>\n",
       "      <th>2</th>\n",
       "      <td>Kerupuk Mentah Kerupuk Seblak Mentah 500 Gr</td>\n",
       "      <td>12500</td>\n",
       "      <td>Bocikakang</td>\n",
       "      <td>Jakarta Selatan</td>\n",
       "      <td>100</td>\n",
       "      <td>4.9</td>\n",
       "      <td>1</td>\n",
       "    </tr>\n",
       "    <tr>\n",
       "      <th>3</th>\n",
       "      <td>Kerupuk Bawang Prima / Krupuk Seblak 500Gram</td>\n",
       "      <td>17500</td>\n",
       "      <td>Parengge Rengge Bumbu &amp; Rempah</td>\n",
       "      <td>Jakarta Timur</td>\n",
       "      <td>5</td>\n",
       "      <td>5.0</td>\n",
       "      <td>1</td>\n",
       "    </tr>\n",
       "    <tr>\n",
       "      <th>4</th>\n",
       "      <td>Kerupuk Seblak Pedas Daun Jeruk 100 Gr</td>\n",
       "      <td>4500</td>\n",
       "      <td>Bocikakang</td>\n",
       "      <td>Jakarta Selatan</td>\n",
       "      <td>500</td>\n",
       "      <td>4.8</td>\n",
       "      <td>1</td>\n",
       "    </tr>\n",
       "    <tr>\n",
       "      <th>6</th>\n",
       "      <td>Seblak Instan Pedas Home Made</td>\n",
       "      <td>3500</td>\n",
       "      <td>The Dhecip</td>\n",
       "      <td>Tangerang Selatan</td>\n",
       "      <td>3000</td>\n",
       "      <td>4.9</td>\n",
       "      <td>1</td>\n",
       "    </tr>\n",
       "    <tr>\n",
       "      <th>7</th>\n",
       "      <td>Sambal Seblak By Mamang Rafael Original Halal ...</td>\n",
       "      <td>39000</td>\n",
       "      <td>Beauty Deluxe</td>\n",
       "      <td>Jakarta Barat</td>\n",
       "      <td>18</td>\n",
       "      <td>5.0</td>\n",
       "      <td>1</td>\n",
       "    </tr>\n",
       "    <tr>\n",
       "      <th>8</th>\n",
       "      <td>Kerupuk Seblak Rafael Pedas / Seblak Mawar Ped...</td>\n",
       "      <td>15000</td>\n",
       "      <td>Duo Bocil Snack</td>\n",
       "      <td>Depok</td>\n",
       "      <td>80</td>\n",
       "      <td>5.0</td>\n",
       "      <td>1</td>\n",
       "    </tr>\n",
       "    <tr>\n",
       "      <th>9</th>\n",
       "      <td>Kylafood Seblak Cup</td>\n",
       "      <td>11000</td>\n",
       "      <td>Kylafood Jakarta</td>\n",
       "      <td>Jakarta Selatan</td>\n",
       "      <td>100</td>\n",
       "      <td>5.0</td>\n",
       "      <td>1</td>\n",
       "    </tr>\n",
       "    <tr>\n",
       "      <th>12</th>\n",
       "      <td>Seblak Instant Termurah</td>\n",
       "      <td>4450</td>\n",
       "      <td>Pusat Cuankie &amp; Cemilan Frozen</td>\n",
       "      <td>Jakarta Timur</td>\n",
       "      <td>10000</td>\n",
       "      <td>4.8</td>\n",
       "      <td>1</td>\n",
       "    </tr>\n",
       "  </tbody>\n",
       "</table>\n",
       "</div>"
      ],
      "text/plain": [
       "                                          nama produk  harga produk  \\\n",
       "0             Seblak Rafael, Seblak Coet Instan Halal         25000   \n",
       "1                                       Seblak Instan          8000   \n",
       "2         Kerupuk Mentah Kerupuk Seblak Mentah 500 Gr         12500   \n",
       "3        Kerupuk Bawang Prima / Krupuk Seblak 500Gram         17500   \n",
       "4              Kerupuk Seblak Pedas Daun Jeruk 100 Gr          4500   \n",
       "6                       Seblak Instan Pedas Home Made          3500   \n",
       "7   Sambal Seblak By Mamang Rafael Original Halal ...         39000   \n",
       "8   Kerupuk Seblak Rafael Pedas / Seblak Mawar Ped...         15000   \n",
       "9                                 Kylafood Seblak Cup         11000   \n",
       "12                            Seblak Instant Termurah          4450   \n",
       "\n",
       "                      nama penjual          kota toko  produk terjual  \\\n",
       "0                Brother Meat Shop              Depok             250   \n",
       "1                    Roemah Moslem      Kab. Boyolali              50   \n",
       "2                       Bocikakang    Jakarta Selatan             100   \n",
       "3   Parengge Rengge Bumbu & Rempah      Jakarta Timur               5   \n",
       "4                       Bocikakang    Jakarta Selatan             500   \n",
       "6                       The Dhecip  Tangerang Selatan            3000   \n",
       "7                    Beauty Deluxe      Jakarta Barat              18   \n",
       "8                  Duo Bocil Snack              Depok              80   \n",
       "9                 Kylafood Jakarta    Jakarta Selatan             100   \n",
       "12  Pusat Cuankie & Cemilan Frozen      Jakarta Timur           10000   \n",
       "\n",
       "    rating produk  zona  \n",
       "0             4.9     1  \n",
       "1             5.0     2  \n",
       "2             4.9     1  \n",
       "3             5.0     1  \n",
       "4             4.8     1  \n",
       "6             4.9     1  \n",
       "7             5.0     1  \n",
       "8             5.0     1  \n",
       "9             5.0     1  \n",
       "12            4.8     1  "
      ]
     },
     "execution_count": 120,
     "metadata": {},
     "output_type": "execute_result"
    }
   ],
   "source": [
    "# Mengelompokkan berdasarkan wilayah Jabodetabek dan Non-Jabodetabek\n",
    "jabodetabek = '|'.join(['Jakarta', 'Bogor', 'Depok', 'Tangerang', 'Bekasi'])\n",
    "# Membuat kolom baru berdasarkan hipotesis\n",
    "df['zona'] = np.where(df['kota toko'].str.contains(jabodetabek, case=False), 1, 2)\n",
    "\n",
    "df"
   ]
  },
  {
   "cell_type": "markdown",
   "metadata": {},
   "source": [
    "### Uji T-Test"
   ]
  },
  {
   "cell_type": "markdown",
   "metadata": {},
   "source": [
    "- Uji T-Test dilakukan karena uji ini merupakan uji inferensial dan juga karena 'assuming' data ini terdistribusi secara normal. "
   ]
  },
  {
   "cell_type": "code",
   "execution_count": 143,
   "metadata": {},
   "outputs": [
    {
     "data": {
      "text/plain": [
       "array(['Depok', 'Kab. Boyolali', 'Jakarta Selatan', 'Jakarta Timur',\n",
       "       'Tangerang Selatan', 'Jakarta Barat', 'Surakarta', 'Bandung',\n",
       "       'Kab. Garut', 'Kab. Bandung', 'Jakarta Pusat', 'Surabaya',\n",
       "       'Tangerang', 'Cimahi', 'Kab. Bekasi', 'Tasikmalaya', 'Semarang',\n",
       "       'Kab.Ciamis', 'Malang', 'Kab. Gresik', 'Kab. Tangerang'],\n",
       "      dtype=object)"
      ]
     },
     "execution_count": 143,
     "metadata": {},
     "output_type": "execute_result"
    }
   ],
   "source": [
    "uniq_values = df['kota toko'].unique()\n",
    "\n",
    "uniq_values"
   ]
  },
  {
   "cell_type": "code",
   "execution_count": 148,
   "metadata": {},
   "outputs": [
    {
     "name": "stdout",
     "output_type": "stream",
     "text": [
      "T-Statistic: -1.9747663402862066\n",
      "P-Value: 0.05110852086579032\n",
      "Tidak ada korelasi signifikan. H0 gagal ditolak.\n"
     ]
    }
   ],
   "source": [
    "# Membagi berdasarkan wilayah\n",
    "toko_jabodetabek = ['Jakarta Barat', 'Jakarta Timur', 'Jakarta Selatan', 'Jakarta Pusat', 'Bogor', 'Depok', 'Tangerang Selatan', 'Bekasi', 'Kab.Tangerang']\n",
    "\n",
    "produk_jabodetabek = df[df['kota toko'].isin(toko_jabodetabek)]\n",
    "produk_non_jabodetabek = df[~df['kota toko'].isin(toko_jabodetabek)]\n",
    "\n",
    "# Menghitung mean\n",
    "mean_produk_jabodetabek = produk_jabodetabek['harga produk'].mean()\n",
    "mean_produk_non_jabodetabek = produk_non_jabodetabek['harga produk'].mean()\n",
    "\n",
    "\n",
    "# Uji T-Test\n",
    "t_statistic, p_value = ttest_ind(produk_jabodetabek['harga produk'], produk_non_jabodetabek['harga produk'])\n",
    "print(\"T-Statistic:\", t_statistic)\n",
    "print(\"P-Value:\", p_value)\n",
    "if p_value < 0.05:\n",
    "    print('Korelasi signifikan. H0 berhasil ditolak.')\n",
    "else:\n",
    "    print('Tidak ada korelasi signifikan. H0 gagal ditolak.')"
   ]
  },
  {
   "cell_type": "markdown",
   "metadata": {},
   "source": [
    "Dipilihnya uji korelasi Spearman karena uji ini menguji 2 variabel dengan data yang salah satunya bisa berdata ordinal atau nominal dengan syarat bahwa distribusi berjalan secara normal. Uji korelasi ini dilakukan karena \"assuming\" bahwa distribusi secara normal. "
   ]
  },
  {
   "cell_type": "code",
   "execution_count": 140,
   "metadata": {},
   "outputs": [
    {
     "name": "stdout",
     "output_type": "stream",
     "text": [
      "Nilai koefisien spearman: 0.02978499118253409\n",
      "P-value: 0.7686276427613845\n",
      "Tidak ada korelasi signifikan. H0 gagal ditolak.\n"
     ]
    }
   ],
   "source": [
    "# Spearmanr\n",
    "korelasi_koefisien, p_value = spearmanr(df['harga produk'], df['zona'])\n",
    "print(f'Nilai koefisien spearman: {korelasi_koefisien}')\n",
    "print(f'P-value: {p_value}')\n",
    "\n",
    "if p_value < 0.05:\n",
    "    print('Korelasi signifikan. H0 berhasil ditolak.')\n",
    "else:\n",
    "    print('Tidak ada korelasi signifikan. H0 gagal ditolak.')"
   ]
  },
  {
   "cell_type": "markdown",
   "metadata": {},
   "source": [
    "##### - Pengujian apakah pembeli cenderung menyukai produk yang harganya murah atau tidak dapat dilakukan dengan uji korelasi antara harga produk dan rating."
   ]
  },
  {
   "cell_type": "markdown",
   "metadata": {},
   "source": [
    "- Dalam kasus ini digunakan hipotesis, yaitu:\n",
    "- H0 : tidak ada perbedaan signifikan antara harga barang dengan rating toko\n",
    "- H1 : ada perbedaan signifikan antara harga barang dengan rating toko\n",
    "\n",
    "- Jenis hipotesis yang digunakan dalam kasus ini yaitu berupa membandingkan harga seblak dengan rating toko maka menggunakan uji hipotesis dua sampel independen."
   ]
  },
  {
   "cell_type": "markdown",
   "metadata": {},
   "source": [
    "Dipilihnya uji korelasi Kendall Tau karena data yang terdistribusi tidak normal dan untuk uji Kendall Tau, bentuk data tidak perlu continous ataupun diskret."
   ]
  },
  {
   "cell_type": "code",
   "execution_count": 141,
   "metadata": {},
   "outputs": [
    {
     "name": "stdout",
     "output_type": "stream",
     "text": [
      "Nilai koefisien Kendall Tau: 0.13002461673150478\n",
      "P-value: 0.08857558640767328\n",
      "Tidak ada korelasi signifikan. H0 gagal ditolak.\n"
     ]
    }
   ],
   "source": [
    "# Kendall Tau\n",
    "korelasi_koefisien, p_value = kendalltau(df['harga produk'], df['rating produk'])\n",
    "print(f'Nilai koefisien Kendall Tau: {korelasi_koefisien}')\n",
    "print(f'P-value: {p_value}')\n",
    "\n",
    "if p_value < 0.05:\n",
    "    print('Korelasi signifikan. H0 berhasil ditolak.')\n",
    "else:\n",
    "    print('Tidak ada korelasi signifikan. H0 gagal ditolak.')"
   ]
  },
  {
   "cell_type": "markdown",
   "metadata": {},
   "source": [
    "# CONCLUSION:\n",
    "\n",
    "- Berdasarkan perhitungan, diperoleh rata-rata, median, standar deviasi yang tertera diatas. Dengan method .describe() juga dapat mengetahui nilai kuartil 1,2,3. \n",
    "\n",
    "- Pada harga produk, jumlah produk yang terjual, rating terjadi adanya outlier karena terdapat harga, jumlah produk terjual, rating yang melebihi batas atas. Maka dari itu distribusinya tidak berjalan normal, hal ini diperkuat dengan data dari nilai skewness. \n",
    "\n",
    "- Nilai skewness pada \"harga produk\" dan \"jumlah produk yang terjual\" bernilai positif, hal ini menunjukkan bahwa ekor distribusi berada di sebelah nilai kanan terbanyak berarti sebagian besar distribusi berada di nilai rendah. Sedangkan pada \"rating\" bernilai negatif yang menunjukan bahwa ekor distribusi berada disebelah kiri yang sebagian besar nilai berada di sisi kanan kurva maka nilai rata-rata akan lebih kecil dari median. Nilai skewness yang menunjukan terdistribusinya normal yaitu 0.\n",
    "\n",
    "- Nilai kurtosis pada \"harga produk\", \"jumlah produk yang terjual\", \"rating\" dapat dikatakan jauh dari distribusi normal. Nilai kurtosis yang dapat dianggap berdistribusi normal yaitu mendekati 3. Jika nilai kurtosis semakin jauh dari nilai ideal berarti penyebarannya tidak merata.\n",
    "\n",
    "- Dengan menjual seblak di Tokopedia (sebagai dropshipper) dapat dikatakan bahwa potensi minimum pendapatan yang diperoleh sebesar Rp3.084.351,78 dan potensi maksimumnya sebesar Rp17.800.957,91. Berdasarkan kedua potensi pendapatan yang diperoleh, hal ini sangat jelas bahwa dengan melakukan penjualan seblak di Tokopedia akan menambahkan pendapatan diluar pendapatan utama sehinggal hal ini layak dilakukan.\n",
    "\n",
    "- Membandingkan harga di daerah Jabodetabek dan diluar Jabodetabek karena harga bahan baku setiap daerah tentunya berbeda-beda. Ternyata tidak ada korelasi yang signifikan antara harga produk dengan daerah. Hal tersebut karena kita berjualan di Tokopedia yang sebagaimana online jadi tentunya tidak dipengaruhi daerah.\n",
    "\n",
    "- Berdasarkan uji T-Test, hasil tidak berkorelasi signifikan. Dapat dikatakan bahwa hubungan antar dua variabel yaitu daerah (jabodetabek dan non jabodetabek) dengan harga produk tidak saling berkaitan. Harga produk di jabodetabek dan non jabodetabek tidak memiliki korelasi signifikan tetapi karena nilai p-value sebesar 0.051 yang dimana angka tersebut mendekati 0.5 artinya tidak berkorelasi signifikan secara lemah.\n",
    "\n",
    "- Pengujian mengenai pembeli cenderung membeli produk yang murah dilakukan antara harga produk dengan rating toko. Hasil dari p-value menunjukan tidak ada korelasi signifikan. Hal tersebut karena rating toko tidak mempengaruhi pembeli dalam membeli produk yang lebih murah atau tidak. Rating toko hanya untuk melihat apakah toko tersebut trusted atau tidak.\n",
    "\n",
    "- Perlu diingat kembali bahwa ketidaksignifikan tidak berarti bahwa tidak ada hubungan sama sekali antara kedua variabel tersebut. Hal ini hanya menunjukan bahwa kita tidak memiliki cukup bukti dari sampel yang dianalisis untuk mengatakan bahwa ada hubungan yang signifikan antara kedua variabel.\n",
    "\n",
    "- Berdasarkan analisis SMART yang dimana goalsnya merupakan pendapatan yang dapat bertambah dari sebelumnya dengan melakukan penjualan seblak di Tokopedia telah sesuai dengan hasil analisis data yang diperoleh melalui web scrapping hingga perhitungan statistik."
   ]
  }
 ],
 "metadata": {
  "kernelspec": {
   "display_name": "base",
   "language": "python",
   "name": "python3"
  },
  "language_info": {
   "codemirror_mode": {
    "name": "ipython",
    "version": 3
   },
   "file_extension": ".py",
   "mimetype": "text/x-python",
   "name": "python",
   "nbconvert_exporter": "python",
   "pygments_lexer": "ipython3",
   "version": "3.11.5"
  }
 },
 "nbformat": 4,
 "nbformat_minor": 2
}
